{
 "cells": [
  {
   "cell_type": "code",
   "execution_count": 53,
   "id": "25d9486a",
   "metadata": {},
   "outputs": [
    {
     "name": "stdout",
     "output_type": "stream",
     "text": [
      "2     Duration  Pulse  Maxpulse  Calories  Pulse3\n",
      "0         60    110       130     409.1   25.75\n",
      "1         60    117       145     479.0   25.75\n",
      "2         60    103       135     340.0   25.75\n",
      "3         45    109       175     282.4   25.75\n",
      "4         45    117       148     406.0   25.75\n",
      "5         60    102       127     300.0   25.75\n",
      "6         60    110       136     374.0   25.75\n",
      "7         45    104       134     253.3   25.75\n",
      "8         30    109       133     195.1   25.75\n",
      "9         60     98       124     269.0   25.75\n",
      "10        60    103       147     329.3   25.75\n",
      "11        60    100       120     250.7   25.75\n",
      "12        60    106       128     345.3   25.75\n",
      "13        60    104       132     379.3   25.75\n",
      "14        60     98       123     275.0   25.75\n",
      "15        60     98       120     215.2   25.75\n",
      "16        60    100       120     300.0   25.75\n",
      "17        45     90       112       NaN   25.75\n",
      "18        60    103       123     323.0   25.75\n",
      "19        45     97       125     243.0   25.75\n",
      "20        60    108       131     364.2   25.75\n",
      "21        45    100       119     282.0   25.75\n",
      "22        60    130       101     300.0   25.75\n",
      "23        45    105       132     246.0   25.75\n",
      "24        60    102       126     334.5   25.75\n",
      "25        60    100       120     250.0   25.75\n",
      "26        60     92       118     241.0   25.75\n",
      "27        60    103       132       NaN   25.75\n"
     ]
    }
   ],
   "source": [
    "# from sklearn.pipeline import make_pipeline\n",
    "import joblib as jl\n",
    "import numpy as np\n",
    "import pandas as pd\n",
    "\n",
    "input = pd.read_csv('data.csv')  # dataframe\n",
    "\n",
    "def square(x):\n",
    "    return x * x\n",
    "def half(input):\n",
    "    # output = {'squared':square(x), 'halved': float(square(x)/2)}\n",
    "    # output = {'squared':square(x)}\n",
    "    # return float(square(input)/2)\n",
    "\n",
    "    return float(input/2)\n",
    "    \n",
    "\n",
    "# x = np.random.randint(1, 10)\n",
    "# # y = square(x)\n",
    "# # print('%d squared is %d' % (x, y))\n",
    "# z = half(x)\n",
    "# # print('half of %d is %d' % (z['squared'], z['halved']))\n",
    "# print(1, input)\n",
    "\n",
    "# from pathlib import Path  \n",
    "# filepath = Path('./subfolder/out.csv')  \n",
    "\n",
    "\n",
    "def main():\n",
    "    # loop thru df\n",
    "    l = len(input)\n",
    "    for i in range(l):\n",
    "        row = input['Pulse'].iloc[i] / 2\n",
    "        # half each val\n",
    "        input['Pulse3'] = half(row)\n",
    "\n",
    "\n",
    "main()\n",
    "print(2, input)\n",
    "input.to_csv('data2.csv',index=False)"
   ]
  },
  {
   "cell_type": "code",
   "execution_count": 49,
   "id": "7b97986b",
   "metadata": {},
   "outputs": [
    {
     "data": {
      "text/plain": [
       "['square.joblib']"
      ]
     },
     "execution_count": 49,
     "metadata": {},
     "output_type": "execute_result"
    }
   ],
   "source": [
    "# dump(reg, \"reg_hw.joblib\")\n",
    "jl.dump(main,\"square.joblib\",compress = True) # save function"
   ]
  },
  {
   "cell_type": "code",
   "execution_count": 50,
   "id": "a175861c",
   "metadata": {},
   "outputs": [
    {
     "name": "stdout",
     "output_type": "stream",
     "text": [
      "<function main at 0x00000207D0708C10>\n"
     ]
    }
   ],
   "source": [
    "model = jl.load('square.joblib')\n",
    "print(model)"
   ]
  },
  {
   "cell_type": "code",
   "execution_count": 52,
   "id": "91097c1c",
   "metadata": {},
   "outputs": [],
   "source": [
    "model()"
   ]
  }
 ],
 "metadata": {
  "kernelspec": {
   "display_name": "Python 3 (ipykernel)",
   "language": "python",
   "name": "python3"
  },
  "language_info": {
   "codemirror_mode": {
    "name": "ipython",
    "version": 3
   },
   "file_extension": ".py",
   "mimetype": "text/x-python",
   "name": "python",
   "nbconvert_exporter": "python",
   "pygments_lexer": "ipython3",
   "version": "3.9.7"
  }
 },
 "nbformat": 4,
 "nbformat_minor": 5
}
